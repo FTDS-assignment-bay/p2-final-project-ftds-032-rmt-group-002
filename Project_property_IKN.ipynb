{
 "cells": [
  {
   "cell_type": "markdown",
   "metadata": {},
   "source": [
    "# I. Introduction"
   ]
  },
  {
   "cell_type": "markdown",
   "metadata": {},
   "source": [
    "##### RMT-032-Group2\n",
    "\n",
    "Roles of Group 2 :\n",
    "- Ignatius Kurniawan Eko Wibowo: Data Scientist\n",
    "- Iqbal Saputra : Data Analyst\n",
    "- Bagus Adji Kusuma : Data Engineer\n",
    "\n",
    "** Proyek kami menggunakan teknik regresi untuk memperkirakan harga rumah \n",
    "di ibu kota baru Indonesia (IKN) dan daerah sekitarnya. Dengan mengumpulkan dan \n",
    "menganalisis data real estate atau bertipe rumah dari Brighton.co.id, model kami memberikan wawasan \n",
    "berbasis data yang tepat untuk membantu investor properti, pembuat kebijakan, \n",
    "dan perencana kota dalam mengambil keputusan yang baik. Pendekatan inovatif \n",
    "ini menjamin prediksi nilai properti yang akurat, mendukung pertumbuhan dan \n",
    "pembangunan yang berkelanjutan di kawasan yang sedang berkembang ini. **"
   ]
  },
  {
   "cell_type": "markdown",
   "metadata": {},
   "source": [
    "# II. Import Libraries"
   ]
  },
  {
   "cell_type": "code",
   "execution_count": 170,
   "metadata": {},
   "outputs": [],
   "source": [
    "# Import yang diperlukan\n",
    "import pandas as pd\n",
    "import matplotlib.pyplot as plt\n",
    "import seaborn as sns"
   ]
  },
  {
   "cell_type": "markdown",
   "metadata": {},
   "source": [
    "# III. Data Loading"
   ]
  },
  {
   "cell_type": "code",
   "execution_count": 171,
   "metadata": {},
   "outputs": [
    {
     "data": {
      "text/html": [
       "<div>\n",
       "<style scoped>\n",
       "    .dataframe tbody tr th:only-of-type {\n",
       "        vertical-align: middle;\n",
       "    }\n",
       "\n",
       "    .dataframe tbody tr th {\n",
       "        vertical-align: top;\n",
       "    }\n",
       "\n",
       "    .dataframe thead th {\n",
       "        text-align: right;\n",
       "    }\n",
       "</style>\n",
       "<table border=\"1\" class=\"dataframe\">\n",
       "  <thead>\n",
       "    <tr style=\"text-align: right;\">\n",
       "      <th></th>\n",
       "      <th>Price</th>\n",
       "      <th>Lokasi</th>\n",
       "      <th>Tipe</th>\n",
       "      <th>Group</th>\n",
       "      <th>Luas Bangunan</th>\n",
       "      <th>Luas Tanah</th>\n",
       "      <th>Sertifikat</th>\n",
       "      <th>Furnish</th>\n",
       "    </tr>\n",
       "  </thead>\n",
       "  <tbody>\n",
       "    <tr>\n",
       "      <th>0</th>\n",
       "      <td>Rp 2,6 Miliar</td>\n",
       "      <td>Kalimantan Timur, Samarinda, Samarinda Utara</td>\n",
       "      <td>Rumah</td>\n",
       "      <td>Secondary</td>\n",
       "      <td>172 m2</td>\n",
       "      <td>210 m2</td>\n",
       "      <td>SHM</td>\n",
       "      <td>Semi-furnished</td>\n",
       "    </tr>\n",
       "    <tr>\n",
       "      <th>1</th>\n",
       "      <td>Rp 875 Juta</td>\n",
       "      <td>Kalimantan Timur, Samarinda, Samarinda Utara</td>\n",
       "      <td>Rumah</td>\n",
       "      <td>Secondary</td>\n",
       "      <td>57 m2</td>\n",
       "      <td>200 m2</td>\n",
       "      <td>SHM</td>\n",
       "      <td>-</td>\n",
       "    </tr>\n",
       "    <tr>\n",
       "      <th>2</th>\n",
       "      <td>Rp 600 Juta</td>\n",
       "      <td>Kalimantan Timur, Samarinda, Samarinda Ilir</td>\n",
       "      <td>Rumah</td>\n",
       "      <td>Secondary</td>\n",
       "      <td>115 m2</td>\n",
       "      <td>235 m2</td>\n",
       "      <td>SHM</td>\n",
       "      <td>-</td>\n",
       "    </tr>\n",
       "    <tr>\n",
       "      <th>3</th>\n",
       "      <td>Rp 1,6 Miliar</td>\n",
       "      <td>Kalimantan Timur, Samarinda, Samarinda Ulu</td>\n",
       "      <td>Rumah</td>\n",
       "      <td>Secondary</td>\n",
       "      <td>220 m2</td>\n",
       "      <td>135 m2</td>\n",
       "      <td>SHM</td>\n",
       "      <td>-</td>\n",
       "    </tr>\n",
       "    <tr>\n",
       "      <th>4</th>\n",
       "      <td>Rp 2,2 Miliar</td>\n",
       "      <td>Kalimantan Timur, Samarinda, Samarinda Kota</td>\n",
       "      <td>Rumah</td>\n",
       "      <td>Secondary</td>\n",
       "      <td>140 m2</td>\n",
       "      <td>184 m2</td>\n",
       "      <td>SHM</td>\n",
       "      <td>Non-furnished</td>\n",
       "    </tr>\n",
       "  </tbody>\n",
       "</table>\n",
       "</div>"
      ],
      "text/plain": [
       "           Price                                        Lokasi   Tipe  \\\n",
       "0  Rp 2,6 Miliar  Kalimantan Timur, Samarinda, Samarinda Utara  Rumah   \n",
       "1    Rp 875 Juta  Kalimantan Timur, Samarinda, Samarinda Utara  Rumah   \n",
       "2    Rp 600 Juta   Kalimantan Timur, Samarinda, Samarinda Ilir  Rumah   \n",
       "3  Rp 1,6 Miliar    Kalimantan Timur, Samarinda, Samarinda Ulu  Rumah   \n",
       "4  Rp 2,2 Miliar   Kalimantan Timur, Samarinda, Samarinda Kota  Rumah   \n",
       "\n",
       "       Group Luas Bangunan Luas Tanah Sertifikat         Furnish  \n",
       "0  Secondary        172 m2     210 m2        SHM  Semi-furnished  \n",
       "1  Secondary         57 m2     200 m2        SHM               -  \n",
       "2  Secondary        115 m2     235 m2        SHM               -  \n",
       "3  Secondary        220 m2     135 m2        SHM               -  \n",
       "4  Secondary        140 m2     184 m2        SHM   Non-furnished  "
      ]
     },
     "execution_count": 171,
     "metadata": {},
     "output_type": "execute_result"
    }
   ],
   "source": [
    "df1 = pd.read_csv('samarinda.csv')\n",
    "df2 = pd.read_csv('balikpapan.csv')\n",
    "df1.head(5)"
   ]
  },
  {
   "cell_type": "code",
   "execution_count": 172,
   "metadata": {},
   "outputs": [
    {
     "name": "stdout",
     "output_type": "stream",
     "text": [
      "<class 'pandas.core.frame.DataFrame'>\n",
      "RangeIndex: 377 entries, 0 to 376\n",
      "Data columns (total 8 columns):\n",
      " #   Column         Non-Null Count  Dtype \n",
      "---  ------         --------------  ----- \n",
      " 0   Price          377 non-null    object\n",
      " 1   Lokasi         377 non-null    object\n",
      " 2   Tipe           377 non-null    object\n",
      " 3   Group          377 non-null    object\n",
      " 4   Luas Bangunan  377 non-null    object\n",
      " 5   Luas Tanah     377 non-null    object\n",
      " 6   Sertifikat     377 non-null    object\n",
      " 7   Furnish        377 non-null    object\n",
      "dtypes: object(8)\n",
      "memory usage: 23.7+ KB\n"
     ]
    }
   ],
   "source": [
    "df1.info()"
   ]
  },
  {
   "cell_type": "code",
   "execution_count": 173,
   "metadata": {},
   "outputs": [
    {
     "name": "stdout",
     "output_type": "stream",
     "text": [
      "\n",
      "Jumlah nilai yang hilang di setiap kolom:\n",
      "Price            0\n",
      "Lokasi           0\n",
      "Tipe             0\n",
      "Group            0\n",
      "Luas Bangunan    0\n",
      "Luas Tanah       0\n",
      "Sertifikat       0\n",
      "Furnish          0\n",
      "dtype: int64\n"
     ]
    }
   ],
   "source": [
    "missing_values = df1.isnull().sum()\n",
    "print(\"\\nJumlah nilai yang hilang di setiap kolom:\")\n",
    "print(missing_values)"
   ]
  },
  {
   "cell_type": "markdown",
   "metadata": {},
   "source": [
    "- Insight :\n",
    "\n",
    "Tidak ditemukan data yang hilang dan akan di lanjutkan ke proses yang selanjutnya"
   ]
  },
  {
   "cell_type": "code",
   "execution_count": 174,
   "metadata": {},
   "outputs": [
    {
     "name": "stdout",
     "output_type": "stream",
     "text": [
      "Jumlah baris yang duplikat: 13\n"
     ]
    }
   ],
   "source": [
    "# Mengecek jumlah baris yang duplikat\n",
    "duplicates = df1.duplicated().sum()\n",
    "print(f\"Jumlah baris yang duplikat: {duplicates}\")"
   ]
  },
  {
   "cell_type": "code",
   "execution_count": 175,
   "metadata": {},
   "outputs": [
    {
     "name": "stdout",
     "output_type": "stream",
     "text": [
      "Duplikasi ditemukan:\n"
     ]
    },
    {
     "data": {
      "text/html": [
       "<div>\n",
       "<style scoped>\n",
       "    .dataframe tbody tr th:only-of-type {\n",
       "        vertical-align: middle;\n",
       "    }\n",
       "\n",
       "    .dataframe tbody tr th {\n",
       "        vertical-align: top;\n",
       "    }\n",
       "\n",
       "    .dataframe thead th {\n",
       "        text-align: right;\n",
       "    }\n",
       "</style>\n",
       "<table border=\"1\" class=\"dataframe\">\n",
       "  <thead>\n",
       "    <tr style=\"text-align: right;\">\n",
       "      <th></th>\n",
       "      <th>Price</th>\n",
       "      <th>Lokasi</th>\n",
       "      <th>Tipe</th>\n",
       "      <th>Group</th>\n",
       "      <th>Luas Bangunan</th>\n",
       "      <th>Luas Tanah</th>\n",
       "      <th>Sertifikat</th>\n",
       "      <th>Furnish</th>\n",
       "    </tr>\n",
       "  </thead>\n",
       "  <tbody>\n",
       "    <tr>\n",
       "      <th>88</th>\n",
       "      <td>Rp 2,08 Miliar</td>\n",
       "      <td>Kalimantan Timur, Samarinda, Sungai Pinang</td>\n",
       "      <td>Rumah</td>\n",
       "      <td>Primary</td>\n",
       "      <td>93 m2</td>\n",
       "      <td>140 m2</td>\n",
       "      <td>HGB</td>\n",
       "      <td>Non-furnished</td>\n",
       "    </tr>\n",
       "    <tr>\n",
       "      <th>138</th>\n",
       "      <td>Rp 4,9 Miliar</td>\n",
       "      <td>Kalimantan Timur, Samarinda, Samarinda Utara</td>\n",
       "      <td>Rumah</td>\n",
       "      <td>Secondary</td>\n",
       "      <td>450 m2</td>\n",
       "      <td>300 m2</td>\n",
       "      <td>SHM</td>\n",
       "      <td>-</td>\n",
       "    </tr>\n",
       "    <tr>\n",
       "      <th>140</th>\n",
       "      <td>Rp 2,08 Miliar</td>\n",
       "      <td>Kalimantan Timur, Samarinda, Samarinda Utara</td>\n",
       "      <td>Rumah</td>\n",
       "      <td>Primary</td>\n",
       "      <td>93 m2</td>\n",
       "      <td>140 m2</td>\n",
       "      <td>HGB</td>\n",
       "      <td>Non-furnished</td>\n",
       "    </tr>\n",
       "    <tr>\n",
       "      <th>151</th>\n",
       "      <td>Rp 2,08 Miliar</td>\n",
       "      <td>Kalimantan Timur, Samarinda, Samarinda Utara</td>\n",
       "      <td>Rumah</td>\n",
       "      <td>Primary</td>\n",
       "      <td>93 m2</td>\n",
       "      <td>140 m2</td>\n",
       "      <td>HGB</td>\n",
       "      <td>Non-furnished</td>\n",
       "    </tr>\n",
       "    <tr>\n",
       "      <th>179</th>\n",
       "      <td>Rp 2,08 Miliar</td>\n",
       "      <td>Kalimantan Timur, Samarinda, Samarinda Utara</td>\n",
       "      <td>Rumah</td>\n",
       "      <td>Primary</td>\n",
       "      <td>93 m2</td>\n",
       "      <td>140 m2</td>\n",
       "      <td>HGB</td>\n",
       "      <td>Non-furnished</td>\n",
       "    </tr>\n",
       "    <tr>\n",
       "      <th>199</th>\n",
       "      <td>Rp 1,57 Miliar</td>\n",
       "      <td>Kalimantan Timur, Samarinda, Loa Janan Ilir</td>\n",
       "      <td>Rumah</td>\n",
       "      <td>Primary</td>\n",
       "      <td>110 m2</td>\n",
       "      <td>215 m2</td>\n",
       "      <td>HGB</td>\n",
       "      <td>Non-furnished</td>\n",
       "    </tr>\n",
       "    <tr>\n",
       "      <th>231</th>\n",
       "      <td>Rp 704,35 Juta</td>\n",
       "      <td>Kalimantan Timur, Samarinda, Loa Janan Ilir</td>\n",
       "      <td>Rumah</td>\n",
       "      <td>-</td>\n",
       "      <td>38 m2</td>\n",
       "      <td>108 m2</td>\n",
       "      <td>HGB</td>\n",
       "      <td>-</td>\n",
       "    </tr>\n",
       "    <tr>\n",
       "      <th>246</th>\n",
       "      <td>Rp 1,9 Miliar</td>\n",
       "      <td>Kalimantan Timur, Samarinda, Sungai Pinang</td>\n",
       "      <td>Rumah</td>\n",
       "      <td>-</td>\n",
       "      <td>96 m2</td>\n",
       "      <td>126 m2</td>\n",
       "      <td>HGB</td>\n",
       "      <td>-</td>\n",
       "    </tr>\n",
       "    <tr>\n",
       "      <th>247</th>\n",
       "      <td>Rp 2,76 Miliar</td>\n",
       "      <td>Kalimantan Timur, Samarinda, Sungai Pinang</td>\n",
       "      <td>Rumah</td>\n",
       "      <td>-</td>\n",
       "      <td>96 m2</td>\n",
       "      <td>147 m2</td>\n",
       "      <td>HGB</td>\n",
       "      <td>-</td>\n",
       "    </tr>\n",
       "    <tr>\n",
       "      <th>258</th>\n",
       "      <td>Rp 2,08 Miliar</td>\n",
       "      <td>Kalimantan Timur, Samarinda, Sungai Pinang</td>\n",
       "      <td>Rumah</td>\n",
       "      <td>Primary</td>\n",
       "      <td>93 m2</td>\n",
       "      <td>140 m2</td>\n",
       "      <td>HGB</td>\n",
       "      <td>Non-furnished</td>\n",
       "    </tr>\n",
       "    <tr>\n",
       "      <th>266</th>\n",
       "      <td>Rp 621,04 Juta</td>\n",
       "      <td>Kalimantan Timur, Samarinda, Loa Janan Ilir</td>\n",
       "      <td>Rumah</td>\n",
       "      <td>-</td>\n",
       "      <td>45 m2</td>\n",
       "      <td>105 m2</td>\n",
       "      <td>PPJB</td>\n",
       "      <td>-</td>\n",
       "    </tr>\n",
       "    <tr>\n",
       "      <th>267</th>\n",
       "      <td>Rp 853,67 Juta</td>\n",
       "      <td>Kalimantan Timur, Samarinda, Loa Janan Ilir</td>\n",
       "      <td>Rumah</td>\n",
       "      <td>-</td>\n",
       "      <td>57 m2</td>\n",
       "      <td>120 m2</td>\n",
       "      <td>PPJB</td>\n",
       "      <td>-</td>\n",
       "    </tr>\n",
       "    <tr>\n",
       "      <th>289</th>\n",
       "      <td>Rp 1,9 Miliar</td>\n",
       "      <td>Kalimantan Timur, Samarinda, Sungai Pinang</td>\n",
       "      <td>Rumah</td>\n",
       "      <td>-</td>\n",
       "      <td>96 m2</td>\n",
       "      <td>126 m2</td>\n",
       "      <td>HGB</td>\n",
       "      <td>-</td>\n",
       "    </tr>\n",
       "  </tbody>\n",
       "</table>\n",
       "</div>"
      ],
      "text/plain": [
       "              Price                                        Lokasi   Tipe  \\\n",
       "88   Rp 2,08 Miliar    Kalimantan Timur, Samarinda, Sungai Pinang  Rumah   \n",
       "138   Rp 4,9 Miliar  Kalimantan Timur, Samarinda, Samarinda Utara  Rumah   \n",
       "140  Rp 2,08 Miliar  Kalimantan Timur, Samarinda, Samarinda Utara  Rumah   \n",
       "151  Rp 2,08 Miliar  Kalimantan Timur, Samarinda, Samarinda Utara  Rumah   \n",
       "179  Rp 2,08 Miliar  Kalimantan Timur, Samarinda, Samarinda Utara  Rumah   \n",
       "199  Rp 1,57 Miliar   Kalimantan Timur, Samarinda, Loa Janan Ilir  Rumah   \n",
       "231  Rp 704,35 Juta   Kalimantan Timur, Samarinda, Loa Janan Ilir  Rumah   \n",
       "246   Rp 1,9 Miliar    Kalimantan Timur, Samarinda, Sungai Pinang  Rumah   \n",
       "247  Rp 2,76 Miliar    Kalimantan Timur, Samarinda, Sungai Pinang  Rumah   \n",
       "258  Rp 2,08 Miliar    Kalimantan Timur, Samarinda, Sungai Pinang  Rumah   \n",
       "266  Rp 621,04 Juta   Kalimantan Timur, Samarinda, Loa Janan Ilir  Rumah   \n",
       "267  Rp 853,67 Juta   Kalimantan Timur, Samarinda, Loa Janan Ilir  Rumah   \n",
       "289   Rp 1,9 Miliar    Kalimantan Timur, Samarinda, Sungai Pinang  Rumah   \n",
       "\n",
       "         Group Luas Bangunan Luas Tanah Sertifikat        Furnish  \n",
       "88     Primary         93 m2     140 m2        HGB  Non-furnished  \n",
       "138  Secondary        450 m2     300 m2        SHM              -  \n",
       "140    Primary         93 m2     140 m2        HGB  Non-furnished  \n",
       "151    Primary         93 m2     140 m2        HGB  Non-furnished  \n",
       "179    Primary         93 m2     140 m2        HGB  Non-furnished  \n",
       "199    Primary        110 m2     215 m2        HGB  Non-furnished  \n",
       "231          -         38 m2     108 m2        HGB              -  \n",
       "246          -         96 m2     126 m2        HGB              -  \n",
       "247          -         96 m2     147 m2        HGB              -  \n",
       "258    Primary         93 m2     140 m2        HGB  Non-furnished  \n",
       "266          -         45 m2     105 m2       PPJB              -  \n",
       "267          -         57 m2     120 m2       PPJB              -  \n",
       "289          -         96 m2     126 m2        HGB              -  "
      ]
     },
     "execution_count": 175,
     "metadata": {},
     "output_type": "execute_result"
    }
   ],
   "source": [
    "duplicate_rows = df1[df1.duplicated()]\n",
    "print(\"Duplikasi ditemukan:\")\n",
    "duplicate_rows"
   ]
  },
  {
   "cell_type": "markdown",
   "metadata": {},
   "source": [
    "- Insight:\n",
    "\n",
    "Dari hasil duplikat yang ditampilkan 13 yang duplicated ini menjadi pertimbangan apakah data yang duplikat akan di drop atau tidak, karena mungkin ada kolerasi dari setiap kolom yang akan di lakukan pemodelan nantinya."
   ]
  },
  {
   "cell_type": "markdown",
   "metadata": {},
   "source": [
    "### A. Clean Data"
   ]
  },
  {
   "cell_type": "markdown",
   "metadata": {},
   "source": [
    "#### A.1 Samarinda"
   ]
  },
  {
   "cell_type": "code",
   "execution_count": 176,
   "metadata": {},
   "outputs": [],
   "source": [
    "# # Mengganti koma dengan titik di kolom Price\n",
    "# df1['Price'] = df1['Price'].str.replace(',', '.')\n",
    "\n",
    "# # Mengganti tanda baca dan simbol di kolom Price agar bisa diubah menjadi numerik\n",
    "# df1['Price'] = df1['Price'].replace({'Rp ': '', ' Miliar': '000000000', ' Juta': ''}, regex=True)\n",
    "# df1['Price'] = df1['Price'].str.replace('.', '', regex=False).astype(float)\n",
    "\n",
    "# Menghapus duplikasi\n",
    "#df1 = df1.drop_duplicates()"
   ]
  },
  {
   "cell_type": "code",
   "execution_count": 177,
   "metadata": {},
   "outputs": [],
   "source": [
    "# Menghapus \"Kalimantan Timur,\" dari kolom Lokasi\n",
    "df1['Lokasi'] = df1['Lokasi'].str.replace('Kalimantan Timur,', '', regex=False)"
   ]
  },
  {
   "cell_type": "markdown",
   "metadata": {},
   "source": [
    "#####"
   ]
  },
  {
   "cell_type": "code",
   "execution_count": 178,
   "metadata": {},
   "outputs": [],
   "source": [
    "import re\n",
    "\n",
    "def clean_price_to_rupiah(price):\n",
    "    # Ekstrak semua angka dan identifikasi unit (Juta/Miliar)\n",
    "    matches = re.findall(r'(\\d+(?:,\\d+)?)\\s*(Juta|Miliar)?', price)\n",
    "    total = 0\n",
    "    for value, unit in matches:\n",
    "        # Konversi nilai ke float, ganti koma dengan titik\n",
    "        num = float(value.replace(',', '.'))\n",
    "        if unit == 'Miliar':\n",
    "            total += num * 1e9  # Konversi Miliar ke Rupiah\n",
    "        elif unit == 'Juta':\n",
    "            total += num * 1e6  # Konversi Juta ke Rupiah\n",
    "        else:\n",
    "            total += num  # Asumsikan sudah dalam Rupiah jika tidak ada unit\n",
    "\n",
    "    return int(total)  # Kembalikan nilai sebagai integer Rupiah\n",
    "\n",
    "# Aplikasikan fungsi ke kolom Price\n",
    "df1['Price'] = df1['Price'].apply(clean_price_to_rupiah)"
   ]
  },
  {
   "cell_type": "markdown",
   "metadata": {},
   "source": [
    "####"
   ]
  },
  {
   "cell_type": "code",
   "execution_count": 179,
   "metadata": {},
   "outputs": [],
   "source": [
    "# Mengubah tipe data kolom numerik\n",
    "df1['Luas Bangunan'] = df1['Luas Bangunan'].str.replace(' m2', '').astype(float)\n",
    "df1['Luas Tanah'] = df1['Luas Tanah'].str.replace(' m2', '').astype(float)"
   ]
  },
  {
   "cell_type": "code",
   "execution_count": 180,
   "metadata": {},
   "outputs": [],
   "source": [
    "# Definisikan kolom yang akan dibersihkan\n",
    "columns_to_clean = ['Furnish', 'Group', 'Sertifikat']\n",
    "\n",
    "# Definisikan nilai pengganti\n",
    "replacement = {\n",
    "    'Furnish': '',\n",
    "    'Group': '',\n",
    "    'Sertifikat': ''\n",
    "}\n",
    "\n",
    "# Aplikasikan penggantian langsung\n",
    "for col in columns_to_clean:\n",
    "    df1[col] = df1[col].replace('-', replacement[col])"
   ]
  },
  {
   "cell_type": "code",
   "execution_count": 181,
   "metadata": {},
   "outputs": [
    {
     "name": "stdout",
     "output_type": "stream",
     "text": [
      "<class 'pandas.core.frame.DataFrame'>\n",
      "RangeIndex: 377 entries, 0 to 376\n",
      "Data columns (total 8 columns):\n",
      " #   Column         Non-Null Count  Dtype  \n",
      "---  ------         --------------  -----  \n",
      " 0   Price          377 non-null    int64  \n",
      " 1   Lokasi         377 non-null    object \n",
      " 2   Tipe           377 non-null    object \n",
      " 3   Group          377 non-null    object \n",
      " 4   Luas Bangunan  377 non-null    float64\n",
      " 5   Luas Tanah     377 non-null    float64\n",
      " 6   Sertifikat     377 non-null    object \n",
      " 7   Furnish        377 non-null    object \n",
      "dtypes: float64(2), int64(1), object(5)\n",
      "memory usage: 23.7+ KB\n"
     ]
    }
   ],
   "source": [
    "df1.info()"
   ]
  },
  {
   "cell_type": "code",
   "execution_count": 182,
   "metadata": {},
   "outputs": [
    {
     "data": {
      "text/html": [
       "<div>\n",
       "<style scoped>\n",
       "    .dataframe tbody tr th:only-of-type {\n",
       "        vertical-align: middle;\n",
       "    }\n",
       "\n",
       "    .dataframe tbody tr th {\n",
       "        vertical-align: top;\n",
       "    }\n",
       "\n",
       "    .dataframe thead th {\n",
       "        text-align: right;\n",
       "    }\n",
       "</style>\n",
       "<table border=\"1\" class=\"dataframe\">\n",
       "  <thead>\n",
       "    <tr style=\"text-align: right;\">\n",
       "      <th></th>\n",
       "      <th>Price</th>\n",
       "      <th>Lokasi</th>\n",
       "      <th>Tipe</th>\n",
       "      <th>Group</th>\n",
       "      <th>Luas Bangunan</th>\n",
       "      <th>Luas Tanah</th>\n",
       "      <th>Sertifikat</th>\n",
       "      <th>Furnish</th>\n",
       "    </tr>\n",
       "  </thead>\n",
       "  <tbody>\n",
       "    <tr>\n",
       "      <th>0</th>\n",
       "      <td>2600000000</td>\n",
       "      <td>Samarinda, Samarinda Utara</td>\n",
       "      <td>Rumah</td>\n",
       "      <td>Secondary</td>\n",
       "      <td>172.0</td>\n",
       "      <td>210.0</td>\n",
       "      <td>SHM</td>\n",
       "      <td>Semi-furnished</td>\n",
       "    </tr>\n",
       "    <tr>\n",
       "      <th>1</th>\n",
       "      <td>875000000</td>\n",
       "      <td>Samarinda, Samarinda Utara</td>\n",
       "      <td>Rumah</td>\n",
       "      <td>Secondary</td>\n",
       "      <td>57.0</td>\n",
       "      <td>200.0</td>\n",
       "      <td>SHM</td>\n",
       "      <td></td>\n",
       "    </tr>\n",
       "    <tr>\n",
       "      <th>2</th>\n",
       "      <td>600000000</td>\n",
       "      <td>Samarinda, Samarinda Ilir</td>\n",
       "      <td>Rumah</td>\n",
       "      <td>Secondary</td>\n",
       "      <td>115.0</td>\n",
       "      <td>235.0</td>\n",
       "      <td>SHM</td>\n",
       "      <td></td>\n",
       "    </tr>\n",
       "    <tr>\n",
       "      <th>3</th>\n",
       "      <td>1600000000</td>\n",
       "      <td>Samarinda, Samarinda Ulu</td>\n",
       "      <td>Rumah</td>\n",
       "      <td>Secondary</td>\n",
       "      <td>220.0</td>\n",
       "      <td>135.0</td>\n",
       "      <td>SHM</td>\n",
       "      <td></td>\n",
       "    </tr>\n",
       "    <tr>\n",
       "      <th>4</th>\n",
       "      <td>2200000000</td>\n",
       "      <td>Samarinda, Samarinda Kota</td>\n",
       "      <td>Rumah</td>\n",
       "      <td>Secondary</td>\n",
       "      <td>140.0</td>\n",
       "      <td>184.0</td>\n",
       "      <td>SHM</td>\n",
       "      <td>Non-furnished</td>\n",
       "    </tr>\n",
       "    <tr>\n",
       "      <th>5</th>\n",
       "      <td>445000000</td>\n",
       "      <td>Samarinda, Samarinda Seberang</td>\n",
       "      <td>Rumah</td>\n",
       "      <td>Secondary</td>\n",
       "      <td>36.0</td>\n",
       "      <td>91.0</td>\n",
       "      <td>HGB</td>\n",
       "      <td></td>\n",
       "    </tr>\n",
       "    <tr>\n",
       "      <th>6</th>\n",
       "      <td>459000000</td>\n",
       "      <td>Samarinda, Samarinda Seberang</td>\n",
       "      <td>Rumah</td>\n",
       "      <td>Primary</td>\n",
       "      <td>40.0</td>\n",
       "      <td>91.0</td>\n",
       "      <td>HGB</td>\n",
       "      <td></td>\n",
       "    </tr>\n",
       "    <tr>\n",
       "      <th>7</th>\n",
       "      <td>2500000000</td>\n",
       "      <td>Samarinda, Samarinda Kota</td>\n",
       "      <td>Rumah</td>\n",
       "      <td>Secondary</td>\n",
       "      <td>180.0</td>\n",
       "      <td>285.0</td>\n",
       "      <td>HGB</td>\n",
       "      <td>Non-furnished</td>\n",
       "    </tr>\n",
       "    <tr>\n",
       "      <th>8</th>\n",
       "      <td>3080000000</td>\n",
       "      <td>Samarinda, Samarinda Seberang</td>\n",
       "      <td>Rumah</td>\n",
       "      <td>Secondary</td>\n",
       "      <td>225.0</td>\n",
       "      <td>276.0</td>\n",
       "      <td>SHM</td>\n",
       "      <td>Semi-furnished</td>\n",
       "    </tr>\n",
       "    <tr>\n",
       "      <th>9</th>\n",
       "      <td>1950000000</td>\n",
       "      <td>Samarinda, Sungai Kunjang</td>\n",
       "      <td>Rumah</td>\n",
       "      <td>Secondary</td>\n",
       "      <td>186.0</td>\n",
       "      <td>292.0</td>\n",
       "      <td>SHM</td>\n",
       "      <td>Semi-furnished</td>\n",
       "    </tr>\n",
       "    <tr>\n",
       "      <th>10</th>\n",
       "      <td>20000000000</td>\n",
       "      <td>Samarinda, Samarinda Ulu</td>\n",
       "      <td>Rumah</td>\n",
       "      <td>Secondary</td>\n",
       "      <td>270.0</td>\n",
       "      <td>1146.0</td>\n",
       "      <td>SHM</td>\n",
       "      <td></td>\n",
       "    </tr>\n",
       "    <tr>\n",
       "      <th>11</th>\n",
       "      <td>2360000000</td>\n",
       "      <td>Samarinda, Samarinda Ulu</td>\n",
       "      <td>Rumah</td>\n",
       "      <td>Secondary</td>\n",
       "      <td>198.0</td>\n",
       "      <td>198.0</td>\n",
       "      <td>SHM</td>\n",
       "      <td>Fully-furnished</td>\n",
       "    </tr>\n",
       "    <tr>\n",
       "      <th>12</th>\n",
       "      <td>1500000000</td>\n",
       "      <td>Samarinda, Samarinda Ulu</td>\n",
       "      <td>Rumah</td>\n",
       "      <td>Secondary</td>\n",
       "      <td>150.0</td>\n",
       "      <td>150.0</td>\n",
       "      <td>SHM</td>\n",
       "      <td>Non-furnished</td>\n",
       "    </tr>\n",
       "    <tr>\n",
       "      <th>13</th>\n",
       "      <td>2500000000</td>\n",
       "      <td>Samarinda, Samarinda Ulu</td>\n",
       "      <td>Rumah</td>\n",
       "      <td>Primary</td>\n",
       "      <td>149.0</td>\n",
       "      <td>144.0</td>\n",
       "      <td>SHM</td>\n",
       "      <td>Non-furnished</td>\n",
       "    </tr>\n",
       "    <tr>\n",
       "      <th>14</th>\n",
       "      <td>3400000000</td>\n",
       "      <td>Samarinda, Samarinda Ulu</td>\n",
       "      <td>Rumah</td>\n",
       "      <td>Secondary</td>\n",
       "      <td>500.0</td>\n",
       "      <td>375.0</td>\n",
       "      <td>SHM</td>\n",
       "      <td></td>\n",
       "    </tr>\n",
       "    <tr>\n",
       "      <th>15</th>\n",
       "      <td>960000000</td>\n",
       "      <td>Samarinda, Samarinda Ilir</td>\n",
       "      <td>Rumah</td>\n",
       "      <td>Secondary</td>\n",
       "      <td>120.0</td>\n",
       "      <td>150.0</td>\n",
       "      <td>SHM</td>\n",
       "      <td></td>\n",
       "    </tr>\n",
       "    <tr>\n",
       "      <th>16</th>\n",
       "      <td>2450000000</td>\n",
       "      <td>Samarinda, Samarinda Kota</td>\n",
       "      <td>Rumah</td>\n",
       "      <td>Secondary</td>\n",
       "      <td>140.0</td>\n",
       "      <td>105.0</td>\n",
       "      <td>SHM</td>\n",
       "      <td>Non-furnished</td>\n",
       "    </tr>\n",
       "    <tr>\n",
       "      <th>17</th>\n",
       "      <td>980000000</td>\n",
       "      <td>Samarinda, Samarinda Ulu</td>\n",
       "      <td>Rumah</td>\n",
       "      <td>Secondary</td>\n",
       "      <td>268.0</td>\n",
       "      <td>140.0</td>\n",
       "      <td>SHM</td>\n",
       "      <td>Semi-furnished</td>\n",
       "    </tr>\n",
       "    <tr>\n",
       "      <th>18</th>\n",
       "      <td>1200000000</td>\n",
       "      <td>Samarinda, Samarinda Ulu</td>\n",
       "      <td>Rumah</td>\n",
       "      <td>Primary</td>\n",
       "      <td>82.0</td>\n",
       "      <td>72.0</td>\n",
       "      <td>HGB</td>\n",
       "      <td>Non-furnished</td>\n",
       "    </tr>\n",
       "    <tr>\n",
       "      <th>19</th>\n",
       "      <td>800000000</td>\n",
       "      <td>Samarinda, Samarinda Utara</td>\n",
       "      <td>Rumah</td>\n",
       "      <td>Secondary</td>\n",
       "      <td>40.0</td>\n",
       "      <td>120.0</td>\n",
       "      <td>HGB</td>\n",
       "      <td></td>\n",
       "    </tr>\n",
       "    <tr>\n",
       "      <th>20</th>\n",
       "      <td>2400000000</td>\n",
       "      <td>Samarinda, Samarinda Utara</td>\n",
       "      <td>Rumah</td>\n",
       "      <td>Secondary</td>\n",
       "      <td>300.0</td>\n",
       "      <td>212.0</td>\n",
       "      <td>SHM</td>\n",
       "      <td></td>\n",
       "    </tr>\n",
       "    <tr>\n",
       "      <th>21</th>\n",
       "      <td>3500000000</td>\n",
       "      <td>Samarinda, Sungai Kunjang</td>\n",
       "      <td>Rumah</td>\n",
       "      <td>Secondary</td>\n",
       "      <td>680.0</td>\n",
       "      <td>544.0</td>\n",
       "      <td>SHM</td>\n",
       "      <td></td>\n",
       "    </tr>\n",
       "    <tr>\n",
       "      <th>22</th>\n",
       "      <td>670000000</td>\n",
       "      <td>Samarinda, Sungai Pinang</td>\n",
       "      <td>Rumah</td>\n",
       "      <td>Secondary</td>\n",
       "      <td>60.0</td>\n",
       "      <td>84.0</td>\n",
       "      <td>SHM</td>\n",
       "      <td></td>\n",
       "    </tr>\n",
       "    <tr>\n",
       "      <th>23</th>\n",
       "      <td>1100000000</td>\n",
       "      <td>Samarinda, Samarinda Ilir</td>\n",
       "      <td>Rumah</td>\n",
       "      <td>Secondary</td>\n",
       "      <td>100.0</td>\n",
       "      <td>120.0</td>\n",
       "      <td>SHM</td>\n",
       "      <td></td>\n",
       "    </tr>\n",
       "    <tr>\n",
       "      <th>24</th>\n",
       "      <td>1400000000</td>\n",
       "      <td>Samarinda, Samarinda Ulu</td>\n",
       "      <td>Rumah</td>\n",
       "      <td>Secondary</td>\n",
       "      <td>1930.0</td>\n",
       "      <td>17949.0</td>\n",
       "      <td>SHM</td>\n",
       "      <td></td>\n",
       "    </tr>\n",
       "    <tr>\n",
       "      <th>25</th>\n",
       "      <td>2750000000</td>\n",
       "      <td>Samarinda, Samarinda Ulu</td>\n",
       "      <td>Rumah</td>\n",
       "      <td>Primary</td>\n",
       "      <td>140.0</td>\n",
       "      <td>184.0</td>\n",
       "      <td>SHM</td>\n",
       "      <td></td>\n",
       "    </tr>\n",
       "    <tr>\n",
       "      <th>26</th>\n",
       "      <td>5000000000</td>\n",
       "      <td>Samarinda, Samarinda Ulu</td>\n",
       "      <td>Rumah</td>\n",
       "      <td>Secondary</td>\n",
       "      <td>360.0</td>\n",
       "      <td>314.0</td>\n",
       "      <td>HGB</td>\n",
       "      <td></td>\n",
       "    </tr>\n",
       "    <tr>\n",
       "      <th>27</th>\n",
       "      <td>1600000000</td>\n",
       "      <td>Samarinda, Samarinda Utara</td>\n",
       "      <td>Rumah</td>\n",
       "      <td></td>\n",
       "      <td>480.0</td>\n",
       "      <td>160.0</td>\n",
       "      <td>SHM</td>\n",
       "      <td></td>\n",
       "    </tr>\n",
       "    <tr>\n",
       "      <th>28</th>\n",
       "      <td>440000000</td>\n",
       "      <td>Samarinda, Sungai Pinang</td>\n",
       "      <td>Rumah</td>\n",
       "      <td>Secondary</td>\n",
       "      <td>40.0</td>\n",
       "      <td>60.0</td>\n",
       "      <td>SHM</td>\n",
       "      <td>Semi-furnished</td>\n",
       "    </tr>\n",
       "    <tr>\n",
       "      <th>29</th>\n",
       "      <td>2800000000</td>\n",
       "      <td>Samarinda, Samarinda Ulu</td>\n",
       "      <td>Rumah</td>\n",
       "      <td>Secondary</td>\n",
       "      <td>260.0</td>\n",
       "      <td>256.0</td>\n",
       "      <td>SHM</td>\n",
       "      <td>Non-furnished</td>\n",
       "    </tr>\n",
       "  </tbody>\n",
       "</table>\n",
       "</div>"
      ],
      "text/plain": [
       "          Price                          Lokasi   Tipe      Group  \\\n",
       "0    2600000000      Samarinda, Samarinda Utara  Rumah  Secondary   \n",
       "1     875000000      Samarinda, Samarinda Utara  Rumah  Secondary   \n",
       "2     600000000       Samarinda, Samarinda Ilir  Rumah  Secondary   \n",
       "3    1600000000        Samarinda, Samarinda Ulu  Rumah  Secondary   \n",
       "4    2200000000       Samarinda, Samarinda Kota  Rumah  Secondary   \n",
       "5     445000000   Samarinda, Samarinda Seberang  Rumah  Secondary   \n",
       "6     459000000   Samarinda, Samarinda Seberang  Rumah    Primary   \n",
       "7    2500000000       Samarinda, Samarinda Kota  Rumah  Secondary   \n",
       "8    3080000000   Samarinda, Samarinda Seberang  Rumah  Secondary   \n",
       "9    1950000000       Samarinda, Sungai Kunjang  Rumah  Secondary   \n",
       "10  20000000000        Samarinda, Samarinda Ulu  Rumah  Secondary   \n",
       "11   2360000000        Samarinda, Samarinda Ulu  Rumah  Secondary   \n",
       "12   1500000000        Samarinda, Samarinda Ulu  Rumah  Secondary   \n",
       "13   2500000000        Samarinda, Samarinda Ulu  Rumah    Primary   \n",
       "14   3400000000        Samarinda, Samarinda Ulu  Rumah  Secondary   \n",
       "15    960000000       Samarinda, Samarinda Ilir  Rumah  Secondary   \n",
       "16   2450000000       Samarinda, Samarinda Kota  Rumah  Secondary   \n",
       "17    980000000        Samarinda, Samarinda Ulu  Rumah  Secondary   \n",
       "18   1200000000        Samarinda, Samarinda Ulu  Rumah    Primary   \n",
       "19    800000000      Samarinda, Samarinda Utara  Rumah  Secondary   \n",
       "20   2400000000      Samarinda, Samarinda Utara  Rumah  Secondary   \n",
       "21   3500000000       Samarinda, Sungai Kunjang  Rumah  Secondary   \n",
       "22    670000000        Samarinda, Sungai Pinang  Rumah  Secondary   \n",
       "23   1100000000       Samarinda, Samarinda Ilir  Rumah  Secondary   \n",
       "24   1400000000        Samarinda, Samarinda Ulu  Rumah  Secondary   \n",
       "25   2750000000        Samarinda, Samarinda Ulu  Rumah    Primary   \n",
       "26   5000000000        Samarinda, Samarinda Ulu  Rumah  Secondary   \n",
       "27   1600000000      Samarinda, Samarinda Utara  Rumah              \n",
       "28    440000000        Samarinda, Sungai Pinang  Rumah  Secondary   \n",
       "29   2800000000        Samarinda, Samarinda Ulu  Rumah  Secondary   \n",
       "\n",
       "    Luas Bangunan  Luas Tanah Sertifikat          Furnish  \n",
       "0           172.0       210.0        SHM   Semi-furnished  \n",
       "1            57.0       200.0        SHM                   \n",
       "2           115.0       235.0        SHM                   \n",
       "3           220.0       135.0        SHM                   \n",
       "4           140.0       184.0        SHM    Non-furnished  \n",
       "5            36.0        91.0        HGB                   \n",
       "6            40.0        91.0        HGB                   \n",
       "7           180.0       285.0        HGB    Non-furnished  \n",
       "8           225.0       276.0        SHM   Semi-furnished  \n",
       "9           186.0       292.0        SHM   Semi-furnished  \n",
       "10          270.0      1146.0        SHM                   \n",
       "11          198.0       198.0        SHM  Fully-furnished  \n",
       "12          150.0       150.0        SHM    Non-furnished  \n",
       "13          149.0       144.0        SHM    Non-furnished  \n",
       "14          500.0       375.0        SHM                   \n",
       "15          120.0       150.0        SHM                   \n",
       "16          140.0       105.0        SHM    Non-furnished  \n",
       "17          268.0       140.0        SHM   Semi-furnished  \n",
       "18           82.0        72.0        HGB    Non-furnished  \n",
       "19           40.0       120.0        HGB                   \n",
       "20          300.0       212.0        SHM                   \n",
       "21          680.0       544.0        SHM                   \n",
       "22           60.0        84.0        SHM                   \n",
       "23          100.0       120.0        SHM                   \n",
       "24         1930.0     17949.0        SHM                   \n",
       "25          140.0       184.0        SHM                   \n",
       "26          360.0       314.0        HGB                   \n",
       "27          480.0       160.0        SHM                   \n",
       "28           40.0        60.0        SHM   Semi-furnished  \n",
       "29          260.0       256.0        SHM    Non-furnished  "
      ]
     },
     "execution_count": 182,
     "metadata": {},
     "output_type": "execute_result"
    }
   ],
   "source": [
    "df1.head(30)"
   ]
  },
  {
   "cell_type": "markdown",
   "metadata": {},
   "source": [
    "- Insight:\n",
    "\n",
    "Data sudah clean dan bisa lanjut ke proses yang selanjutnya pada kota balikpapan untuk dilakukan cleaning dataset"
   ]
  },
  {
   "cell_type": "code",
   "execution_count": 183,
   "metadata": {},
   "outputs": [],
   "source": [
    "#Mengubah dataframe samarinda menjadi csv\n",
    "df1.to_csv('samarinda_clean.csv', index=False)"
   ]
  },
  {
   "cell_type": "markdown",
   "metadata": {},
   "source": [
    "#### A.2 Balikpapan"
   ]
  },
  {
   "cell_type": "code",
   "execution_count": 184,
   "metadata": {},
   "outputs": [
    {
     "data": {
      "text/html": [
       "<div>\n",
       "<style scoped>\n",
       "    .dataframe tbody tr th:only-of-type {\n",
       "        vertical-align: middle;\n",
       "    }\n",
       "\n",
       "    .dataframe tbody tr th {\n",
       "        vertical-align: top;\n",
       "    }\n",
       "\n",
       "    .dataframe thead th {\n",
       "        text-align: right;\n",
       "    }\n",
       "</style>\n",
       "<table border=\"1\" class=\"dataframe\">\n",
       "  <thead>\n",
       "    <tr style=\"text-align: right;\">\n",
       "      <th></th>\n",
       "      <th>Price</th>\n",
       "      <th>Lokasi</th>\n",
       "      <th>Tipe</th>\n",
       "      <th>Group</th>\n",
       "      <th>Luas Bangunan</th>\n",
       "      <th>Luas Tanah</th>\n",
       "      <th>Sertifikat</th>\n",
       "      <th>Furnish</th>\n",
       "    </tr>\n",
       "  </thead>\n",
       "  <tbody>\n",
       "    <tr>\n",
       "      <th>0</th>\n",
       "      <td>Rp 1,2 Miliar</td>\n",
       "      <td>Kalimantan Timur, Balikpapan, Balikpapan Selatan</td>\n",
       "      <td>Rumah</td>\n",
       "      <td>Secondary</td>\n",
       "      <td>110 m2</td>\n",
       "      <td>157 m2</td>\n",
       "      <td>SHM</td>\n",
       "      <td>Fully-furnished</td>\n",
       "    </tr>\n",
       "    <tr>\n",
       "      <th>1</th>\n",
       "      <td>Rp 17 Miliar</td>\n",
       "      <td>Kalimantan Timur, Balikpapan, Balikpapan Selatan</td>\n",
       "      <td>Rumah</td>\n",
       "      <td>Secondary</td>\n",
       "      <td>850 m2</td>\n",
       "      <td>1250 m2</td>\n",
       "      <td>SHM</td>\n",
       "      <td>Fully-furnished</td>\n",
       "    </tr>\n",
       "    <tr>\n",
       "      <th>2</th>\n",
       "      <td>Rp 4,5 Miliar</td>\n",
       "      <td>Kalimantan Timur, Balikpapan, Balikpapan Selatan</td>\n",
       "      <td>Rumah</td>\n",
       "      <td>-</td>\n",
       "      <td>580 m2</td>\n",
       "      <td>1034 m2</td>\n",
       "      <td>SHM</td>\n",
       "      <td>-</td>\n",
       "    </tr>\n",
       "    <tr>\n",
       "      <th>3</th>\n",
       "      <td>Rp 3,3 Miliar</td>\n",
       "      <td>Kalimantan Timur, Balikpapan, Balikpapan Selatan</td>\n",
       "      <td>Rumah</td>\n",
       "      <td>Secondary</td>\n",
       "      <td>80 m2</td>\n",
       "      <td>380 m2</td>\n",
       "      <td>SHM</td>\n",
       "      <td>Fully-furnished</td>\n",
       "    </tr>\n",
       "    <tr>\n",
       "      <th>4</th>\n",
       "      <td>Rp 5,8 Miliar</td>\n",
       "      <td>Kalimantan Timur, Balikpapan, Balikpapan Selatan</td>\n",
       "      <td>Rumah</td>\n",
       "      <td>Secondary</td>\n",
       "      <td>480 m2</td>\n",
       "      <td>260 m2</td>\n",
       "      <td>SHM</td>\n",
       "      <td>Fully-furnished</td>\n",
       "    </tr>\n",
       "  </tbody>\n",
       "</table>\n",
       "</div>"
      ],
      "text/plain": [
       "           Price                                            Lokasi   Tipe  \\\n",
       "0  Rp 1,2 Miliar  Kalimantan Timur, Balikpapan, Balikpapan Selatan  Rumah   \n",
       "1   Rp 17 Miliar  Kalimantan Timur, Balikpapan, Balikpapan Selatan  Rumah   \n",
       "2  Rp 4,5 Miliar  Kalimantan Timur, Balikpapan, Balikpapan Selatan  Rumah   \n",
       "3  Rp 3,3 Miliar  Kalimantan Timur, Balikpapan, Balikpapan Selatan  Rumah   \n",
       "4  Rp 5,8 Miliar  Kalimantan Timur, Balikpapan, Balikpapan Selatan  Rumah   \n",
       "\n",
       "       Group Luas Bangunan Luas Tanah Sertifikat          Furnish  \n",
       "0  Secondary        110 m2     157 m2        SHM  Fully-furnished  \n",
       "1  Secondary        850 m2    1250 m2        SHM  Fully-furnished  \n",
       "2          -        580 m2    1034 m2        SHM                -  \n",
       "3  Secondary         80 m2     380 m2        SHM  Fully-furnished  \n",
       "4  Secondary        480 m2     260 m2        SHM  Fully-furnished  "
      ]
     },
     "execution_count": 184,
     "metadata": {},
     "output_type": "execute_result"
    }
   ],
   "source": [
    "df2.head(5)"
   ]
  },
  {
   "cell_type": "code",
   "execution_count": 185,
   "metadata": {},
   "outputs": [
    {
     "name": "stdout",
     "output_type": "stream",
     "text": [
      "<class 'pandas.core.frame.DataFrame'>\n",
      "RangeIndex: 403 entries, 0 to 402\n",
      "Data columns (total 8 columns):\n",
      " #   Column         Non-Null Count  Dtype \n",
      "---  ------         --------------  ----- \n",
      " 0   Price          403 non-null    object\n",
      " 1   Lokasi         403 non-null    object\n",
      " 2   Tipe           403 non-null    object\n",
      " 3   Group          403 non-null    object\n",
      " 4   Luas Bangunan  403 non-null    object\n",
      " 5   Luas Tanah     403 non-null    object\n",
      " 6   Sertifikat     403 non-null    object\n",
      " 7   Furnish        403 non-null    object\n",
      "dtypes: object(8)\n",
      "memory usage: 25.3+ KB\n"
     ]
    }
   ],
   "source": [
    "df2.info()"
   ]
  },
  {
   "cell_type": "code",
   "execution_count": 186,
   "metadata": {},
   "outputs": [
    {
     "name": "stdout",
     "output_type": "stream",
     "text": [
      "\n",
      "Jumlah nilai yang hilang di setiap kolom:\n",
      "Price            0\n",
      "Lokasi           0\n",
      "Tipe             0\n",
      "Group            0\n",
      "Luas Bangunan    0\n",
      "Luas Tanah       0\n",
      "Sertifikat       0\n",
      "Furnish          0\n",
      "dtype: int64\n"
     ]
    }
   ],
   "source": [
    "missing_values = df2.isnull().sum()\n",
    "print(\"\\nJumlah nilai yang hilang di setiap kolom:\")\n",
    "print(missing_values)"
   ]
  },
  {
   "cell_type": "markdown",
   "metadata": {},
   "source": [
    "- Insight :\n",
    "\n",
    "Tidak ditemukan data yang hilang dan akan di lanjutkan ke proses yang selanjutnya"
   ]
  },
  {
   "cell_type": "code",
   "execution_count": 187,
   "metadata": {},
   "outputs": [
    {
     "name": "stdout",
     "output_type": "stream",
     "text": [
      "Jumlah baris yang duplikat: 1\n"
     ]
    }
   ],
   "source": [
    "# Mengecek jumlah baris yang duplikat\n",
    "duplicates = df2.duplicated().sum()\n",
    "print(f\"Jumlah baris yang duplikat: {duplicates}\")"
   ]
  },
  {
   "cell_type": "code",
   "execution_count": 188,
   "metadata": {},
   "outputs": [
    {
     "name": "stdout",
     "output_type": "stream",
     "text": [
      "Duplikasi ditemukan:\n"
     ]
    },
    {
     "data": {
      "text/html": [
       "<div>\n",
       "<style scoped>\n",
       "    .dataframe tbody tr th:only-of-type {\n",
       "        vertical-align: middle;\n",
       "    }\n",
       "\n",
       "    .dataframe tbody tr th {\n",
       "        vertical-align: top;\n",
       "    }\n",
       "\n",
       "    .dataframe thead th {\n",
       "        text-align: right;\n",
       "    }\n",
       "</style>\n",
       "<table border=\"1\" class=\"dataframe\">\n",
       "  <thead>\n",
       "    <tr style=\"text-align: right;\">\n",
       "      <th></th>\n",
       "      <th>Price</th>\n",
       "      <th>Lokasi</th>\n",
       "      <th>Tipe</th>\n",
       "      <th>Group</th>\n",
       "      <th>Luas Bangunan</th>\n",
       "      <th>Luas Tanah</th>\n",
       "      <th>Sertifikat</th>\n",
       "      <th>Furnish</th>\n",
       "    </tr>\n",
       "  </thead>\n",
       "  <tbody>\n",
       "    <tr>\n",
       "      <th>282</th>\n",
       "      <td>Rp 7,7 Miliar</td>\n",
       "      <td>Kalimantan Timur, Balikpapan, Balikpapan Selatan</td>\n",
       "      <td>Rumah</td>\n",
       "      <td>Secondary</td>\n",
       "      <td>341 m2</td>\n",
       "      <td>558 m2</td>\n",
       "      <td>SHM</td>\n",
       "      <td>Semi-furnished</td>\n",
       "    </tr>\n",
       "  </tbody>\n",
       "</table>\n",
       "</div>"
      ],
      "text/plain": [
       "             Price                                            Lokasi   Tipe  \\\n",
       "282  Rp 7,7 Miliar  Kalimantan Timur, Balikpapan, Balikpapan Selatan  Rumah   \n",
       "\n",
       "         Group Luas Bangunan Luas Tanah Sertifikat         Furnish  \n",
       "282  Secondary        341 m2     558 m2        SHM  Semi-furnished  "
      ]
     },
     "execution_count": 188,
     "metadata": {},
     "output_type": "execute_result"
    }
   ],
   "source": [
    "duplicate_rows = df2[df2.duplicated()]\n",
    "print(\"Duplikasi ditemukan:\")\n",
    "duplicate_rows"
   ]
  },
  {
   "cell_type": "markdown",
   "metadata": {},
   "source": [
    "- Insight:\n",
    "\n",
    "Dari hasil duplikat yang ditampilkan hanya 1 yang duplicated ini menjadi pertimbangan apakah data yang duplikat akan di drop atau tidak, karena mungkin ada kolerasi dari setiap kolom yang akan di lakukan pemodelan nantinya."
   ]
  },
  {
   "cell_type": "code",
   "execution_count": 189,
   "metadata": {},
   "outputs": [],
   "source": [
    "# Menghapus duplikasi\n",
    "#df2.drop_duplicates()"
   ]
  },
  {
   "cell_type": "code",
   "execution_count": 190,
   "metadata": {},
   "outputs": [],
   "source": [
    "# Menghapus \"Kalimantan Timur,\" dari kolom Lokasi\n",
    "df2['Lokasi'] = df2['Lokasi'].str.replace('Kalimantan Timur,', '', regex=False)"
   ]
  },
  {
   "cell_type": "markdown",
   "metadata": {},
   "source": [
    "#####"
   ]
  },
  {
   "cell_type": "code",
   "execution_count": 191,
   "metadata": {},
   "outputs": [],
   "source": [
    "def clean_price_to_rupiah(price):\n",
    "    # Ekstrak semua angka dan identifikasi unit (Juta/Miliar)\n",
    "    matches = re.findall(r'(\\d+(?:,\\d+)?)\\s*(Juta|Miliar)?', price)\n",
    "    total = 0\n",
    "    for value, unit in matches:\n",
    "        # Konversi nilai ke float, ganti koma dengan titik\n",
    "        num = float(value.replace(',', '.'))\n",
    "        if unit == 'Miliar':\n",
    "            total += num * 1e9  # Konversi Miliar ke Rupiah\n",
    "        elif unit == 'Juta':\n",
    "            total += num * 1e6  # Konversi Juta ke Rupiah\n",
    "        else:\n",
    "            total += num  # Asumsikan sudah dalam Rupiah jika tidak ada unit\n",
    "\n",
    "    return int(total)  # Kembalikan nilai sebagai integer Rupiah\n",
    "\n",
    "# Aplikasikan fungsi ke kolom Price\n",
    "df2['Price'] = df2['Price'].apply(clean_price_to_rupiah)"
   ]
  },
  {
   "cell_type": "markdown",
   "metadata": {},
   "source": [
    "####"
   ]
  },
  {
   "cell_type": "code",
   "execution_count": 192,
   "metadata": {},
   "outputs": [],
   "source": [
    "# Mengubah tipe data kolom numerik\n",
    "df2['Luas Bangunan'] = df2['Luas Bangunan'].str.replace(' m2', '').astype(float)\n",
    "df2['Luas Tanah'] = df2['Luas Tanah'].str.replace(' m2', '').astype(float)"
   ]
  },
  {
   "cell_type": "code",
   "execution_count": 193,
   "metadata": {},
   "outputs": [],
   "source": [
    "# Definisikan kolom yang akan dibersihkan\n",
    "columns_to_clean = ['Furnish', 'Group', 'Sertifikat']\n",
    "\n",
    "# Definisikan nilai pengganti\n",
    "replacement = {\n",
    "    'Furnish': '',\n",
    "    'Group': '',\n",
    "    'Sertifikat': ''\n",
    "}\n",
    "\n",
    "# Aplikasikan penggantian langsung\n",
    "for col in columns_to_clean:\n",
    "    df2[col] = df2[col].replace('-', replacement[col])"
   ]
  },
  {
   "cell_type": "code",
   "execution_count": 194,
   "metadata": {},
   "outputs": [
    {
     "name": "stdout",
     "output_type": "stream",
     "text": [
      "<class 'pandas.core.frame.DataFrame'>\n",
      "RangeIndex: 403 entries, 0 to 402\n",
      "Data columns (total 8 columns):\n",
      " #   Column         Non-Null Count  Dtype  \n",
      "---  ------         --------------  -----  \n",
      " 0   Price          403 non-null    int64  \n",
      " 1   Lokasi         403 non-null    object \n",
      " 2   Tipe           403 non-null    object \n",
      " 3   Group          403 non-null    object \n",
      " 4   Luas Bangunan  403 non-null    float64\n",
      " 5   Luas Tanah     403 non-null    float64\n",
      " 6   Sertifikat     403 non-null    object \n",
      " 7   Furnish        403 non-null    object \n",
      "dtypes: float64(2), int64(1), object(5)\n",
      "memory usage: 25.3+ KB\n"
     ]
    }
   ],
   "source": [
    "df2.info()"
   ]
  },
  {
   "cell_type": "code",
   "execution_count": 195,
   "metadata": {},
   "outputs": [
    {
     "data": {
      "text/html": [
       "<div>\n",
       "<style scoped>\n",
       "    .dataframe tbody tr th:only-of-type {\n",
       "        vertical-align: middle;\n",
       "    }\n",
       "\n",
       "    .dataframe tbody tr th {\n",
       "        vertical-align: top;\n",
       "    }\n",
       "\n",
       "    .dataframe thead th {\n",
       "        text-align: right;\n",
       "    }\n",
       "</style>\n",
       "<table border=\"1\" class=\"dataframe\">\n",
       "  <thead>\n",
       "    <tr style=\"text-align: right;\">\n",
       "      <th></th>\n",
       "      <th>Price</th>\n",
       "      <th>Lokasi</th>\n",
       "      <th>Tipe</th>\n",
       "      <th>Group</th>\n",
       "      <th>Luas Bangunan</th>\n",
       "      <th>Luas Tanah</th>\n",
       "      <th>Sertifikat</th>\n",
       "      <th>Furnish</th>\n",
       "    </tr>\n",
       "  </thead>\n",
       "  <tbody>\n",
       "    <tr>\n",
       "      <th>0</th>\n",
       "      <td>1200000000</td>\n",
       "      <td>Balikpapan, Balikpapan Selatan</td>\n",
       "      <td>Rumah</td>\n",
       "      <td>Secondary</td>\n",
       "      <td>110.0</td>\n",
       "      <td>157.0</td>\n",
       "      <td>SHM</td>\n",
       "      <td>Fully-furnished</td>\n",
       "    </tr>\n",
       "    <tr>\n",
       "      <th>1</th>\n",
       "      <td>17000000000</td>\n",
       "      <td>Balikpapan, Balikpapan Selatan</td>\n",
       "      <td>Rumah</td>\n",
       "      <td>Secondary</td>\n",
       "      <td>850.0</td>\n",
       "      <td>1250.0</td>\n",
       "      <td>SHM</td>\n",
       "      <td>Fully-furnished</td>\n",
       "    </tr>\n",
       "    <tr>\n",
       "      <th>2</th>\n",
       "      <td>4500000000</td>\n",
       "      <td>Balikpapan, Balikpapan Selatan</td>\n",
       "      <td>Rumah</td>\n",
       "      <td></td>\n",
       "      <td>580.0</td>\n",
       "      <td>1034.0</td>\n",
       "      <td>SHM</td>\n",
       "      <td></td>\n",
       "    </tr>\n",
       "    <tr>\n",
       "      <th>3</th>\n",
       "      <td>3300000000</td>\n",
       "      <td>Balikpapan, Balikpapan Selatan</td>\n",
       "      <td>Rumah</td>\n",
       "      <td>Secondary</td>\n",
       "      <td>80.0</td>\n",
       "      <td>380.0</td>\n",
       "      <td>SHM</td>\n",
       "      <td>Fully-furnished</td>\n",
       "    </tr>\n",
       "    <tr>\n",
       "      <th>4</th>\n",
       "      <td>5800000000</td>\n",
       "      <td>Balikpapan, Balikpapan Selatan</td>\n",
       "      <td>Rumah</td>\n",
       "      <td>Secondary</td>\n",
       "      <td>480.0</td>\n",
       "      <td>260.0</td>\n",
       "      <td>SHM</td>\n",
       "      <td>Fully-furnished</td>\n",
       "    </tr>\n",
       "    <tr>\n",
       "      <th>5</th>\n",
       "      <td>4000000000</td>\n",
       "      <td>Balikpapan, Balikpapan Selatan</td>\n",
       "      <td>Rumah</td>\n",
       "      <td>Secondary</td>\n",
       "      <td>340.0</td>\n",
       "      <td>230.0</td>\n",
       "      <td>SHM</td>\n",
       "      <td>Semi-furnished</td>\n",
       "    </tr>\n",
       "    <tr>\n",
       "      <th>6</th>\n",
       "      <td>2075000000</td>\n",
       "      <td>Balikpapan, Balikpapan Selatan</td>\n",
       "      <td>Rumah</td>\n",
       "      <td>Secondary</td>\n",
       "      <td>148.0</td>\n",
       "      <td>168.0</td>\n",
       "      <td>SHM</td>\n",
       "      <td>Fully-furnished</td>\n",
       "    </tr>\n",
       "    <tr>\n",
       "      <th>7</th>\n",
       "      <td>1500000000</td>\n",
       "      <td>Balikpapan, Balikpapan Selatan</td>\n",
       "      <td>Rumah</td>\n",
       "      <td>Secondary</td>\n",
       "      <td>72.0</td>\n",
       "      <td>102.0</td>\n",
       "      <td>SHM</td>\n",
       "      <td>Semi-furnished</td>\n",
       "    </tr>\n",
       "    <tr>\n",
       "      <th>8</th>\n",
       "      <td>12220000000</td>\n",
       "      <td>Balikpapan, Balikpapan Selatan</td>\n",
       "      <td>Rumah</td>\n",
       "      <td>Secondary</td>\n",
       "      <td>350.0</td>\n",
       "      <td>570.0</td>\n",
       "      <td>SHM</td>\n",
       "      <td>Fully-furnished</td>\n",
       "    </tr>\n",
       "    <tr>\n",
       "      <th>9</th>\n",
       "      <td>950000000</td>\n",
       "      <td>Balikpapan, Balikpapan Selatan</td>\n",
       "      <td>Rumah</td>\n",
       "      <td>Secondary</td>\n",
       "      <td>48.0</td>\n",
       "      <td>112.0</td>\n",
       "      <td>SHM</td>\n",
       "      <td>Non-furnished</td>\n",
       "    </tr>\n",
       "  </tbody>\n",
       "</table>\n",
       "</div>"
      ],
      "text/plain": [
       "         Price                           Lokasi   Tipe      Group  \\\n",
       "0   1200000000   Balikpapan, Balikpapan Selatan  Rumah  Secondary   \n",
       "1  17000000000   Balikpapan, Balikpapan Selatan  Rumah  Secondary   \n",
       "2   4500000000   Balikpapan, Balikpapan Selatan  Rumah              \n",
       "3   3300000000   Balikpapan, Balikpapan Selatan  Rumah  Secondary   \n",
       "4   5800000000   Balikpapan, Balikpapan Selatan  Rumah  Secondary   \n",
       "5   4000000000   Balikpapan, Balikpapan Selatan  Rumah  Secondary   \n",
       "6   2075000000   Balikpapan, Balikpapan Selatan  Rumah  Secondary   \n",
       "7   1500000000   Balikpapan, Balikpapan Selatan  Rumah  Secondary   \n",
       "8  12220000000   Balikpapan, Balikpapan Selatan  Rumah  Secondary   \n",
       "9    950000000   Balikpapan, Balikpapan Selatan  Rumah  Secondary   \n",
       "\n",
       "   Luas Bangunan  Luas Tanah Sertifikat          Furnish  \n",
       "0          110.0       157.0        SHM  Fully-furnished  \n",
       "1          850.0      1250.0        SHM  Fully-furnished  \n",
       "2          580.0      1034.0        SHM                   \n",
       "3           80.0       380.0        SHM  Fully-furnished  \n",
       "4          480.0       260.0        SHM  Fully-furnished  \n",
       "5          340.0       230.0        SHM   Semi-furnished  \n",
       "6          148.0       168.0        SHM  Fully-furnished  \n",
       "7           72.0       102.0        SHM   Semi-furnished  \n",
       "8          350.0       570.0        SHM  Fully-furnished  \n",
       "9           48.0       112.0        SHM    Non-furnished  "
      ]
     },
     "execution_count": 195,
     "metadata": {},
     "output_type": "execute_result"
    }
   ],
   "source": [
    "df2.head(10)"
   ]
  },
  {
   "cell_type": "markdown",
   "metadata": {},
   "source": [
    "- Insight:\n",
    "\n",
    "Kedua Dataset sudah clean dan bisa dilanjutkan ke Exploratory Data Analysis untuk di analisa lebih lanjut"
   ]
  },
  {
   "cell_type": "code",
   "execution_count": 196,
   "metadata": {},
   "outputs": [],
   "source": [
    "#Mengubah dataframe samarinda menjadi csv\n",
    "df2.to_csv('balikpapan_clean.csv', index=False)"
   ]
  },
  {
   "cell_type": "markdown",
   "metadata": {},
   "source": [
    "# IV. Exploratory Data Analysis (EDA)"
   ]
  },
  {
   "cell_type": "code",
   "execution_count": 197,
   "metadata": {},
   "outputs": [],
   "source": [
    "df11 = pd.read_csv('samarinda_clean.csv')\n",
    "df22 = pd.read_csv('balikpapan_clean.csv')"
   ]
  },
  {
   "cell_type": "markdown",
   "metadata": {},
   "source": [
    "#### A.1 Analys samarinda_clean"
   ]
  },
  {
   "cell_type": "code",
   "execution_count": 198,
   "metadata": {},
   "outputs": [
    {
     "data": {
      "text/html": [
       "<div>\n",
       "<style scoped>\n",
       "    .dataframe tbody tr th:only-of-type {\n",
       "        vertical-align: middle;\n",
       "    }\n",
       "\n",
       "    .dataframe tbody tr th {\n",
       "        vertical-align: top;\n",
       "    }\n",
       "\n",
       "    .dataframe thead th {\n",
       "        text-align: right;\n",
       "    }\n",
       "</style>\n",
       "<table border=\"1\" class=\"dataframe\">\n",
       "  <thead>\n",
       "    <tr style=\"text-align: right;\">\n",
       "      <th></th>\n",
       "      <th>count</th>\n",
       "      <th>mean</th>\n",
       "      <th>std</th>\n",
       "      <th>min</th>\n",
       "      <th>25%</th>\n",
       "      <th>50%</th>\n",
       "      <th>75%</th>\n",
       "      <th>max</th>\n",
       "    </tr>\n",
       "  </thead>\n",
       "  <tbody>\n",
       "    <tr>\n",
       "      <th>Price</th>\n",
       "      <td>377.0</td>\n",
       "      <td>2.305871e+09</td>\n",
       "      <td>2.962853e+09</td>\n",
       "      <td>50000001.0</td>\n",
       "      <td>950000000.0</td>\n",
       "      <td>1.550000e+09</td>\n",
       "      <td>2.590000e+09</td>\n",
       "      <td>2.800000e+10</td>\n",
       "    </tr>\n",
       "    <tr>\n",
       "      <th>Luas Bangunan</th>\n",
       "      <td>377.0</td>\n",
       "      <td>1.740470e+02</td>\n",
       "      <td>1.866415e+02</td>\n",
       "      <td>0.0</td>\n",
       "      <td>80.0</td>\n",
       "      <td>1.240000e+02</td>\n",
       "      <td>2.010000e+02</td>\n",
       "      <td>1.930000e+03</td>\n",
       "    </tr>\n",
       "    <tr>\n",
       "      <th>Luas Tanah</th>\n",
       "      <td>377.0</td>\n",
       "      <td>2.757241e+02</td>\n",
       "      <td>9.427976e+02</td>\n",
       "      <td>10.0</td>\n",
       "      <td>120.0</td>\n",
       "      <td>1.630000e+02</td>\n",
       "      <td>2.430000e+02</td>\n",
       "      <td>1.794900e+04</td>\n",
       "    </tr>\n",
       "  </tbody>\n",
       "</table>\n",
       "</div>"
      ],
      "text/plain": [
       "               count          mean           std         min          25%  \\\n",
       "Price          377.0  2.305871e+09  2.962853e+09  50000001.0  950000000.0   \n",
       "Luas Bangunan  377.0  1.740470e+02  1.866415e+02         0.0         80.0   \n",
       "Luas Tanah     377.0  2.757241e+02  9.427976e+02        10.0        120.0   \n",
       "\n",
       "                        50%           75%           max  \n",
       "Price          1.550000e+09  2.590000e+09  2.800000e+10  \n",
       "Luas Bangunan  1.240000e+02  2.010000e+02  1.930000e+03  \n",
       "Luas Tanah     1.630000e+02  2.430000e+02  1.794900e+04  "
      ]
     },
     "execution_count": 198,
     "metadata": {},
     "output_type": "execute_result"
    }
   ],
   "source": [
    "# Melihat statistik deskriptif dari variabel-variabel numerik\n",
    "df11.describe().T"
   ]
  },
  {
   "cell_type": "code",
   "execution_count": 213,
   "metadata": {},
   "outputs": [
    {
     "data": {
      "text/plain": [
       "['Secondary', 'Primary', nan]"
      ]
     },
     "execution_count": 213,
     "metadata": {},
     "output_type": "execute_result"
    }
   ],
   "source": [
    "df11.Group.unique().tolist()"
   ]
  },
  {
   "cell_type": "code",
   "execution_count": 202,
   "metadata": {},
   "outputs": [
    {
     "data": {
      "image/png": "[encoded data removed]",
      "text/plain": [
       "<Figure size 1600x500 with 1 Axes>"
      ]
     },
     "metadata": {},
     "output_type": "display_data"
    }
   ],
   "source": [
    "plt.figure(figsize=(16,5))\n",
    "sns.boxplot(x='Furnish', y='Price', data=df11)\n",
    "plt.title('Box plot Furnish by Price')\n",
    "plt.show()"
   ]
  },
  {
   "cell_type": "code",
   "execution_count": 227,
   "metadata": {},
   "outputs": [
    {
     "data": {
      "image/png": "[encoded data removed]",
      "text/plain": [
       "<Figure size 1400x700 with 1 Axes>"
      ]
     },
     "metadata": {},
     "output_type": "display_data"
    }
   ],
   "source": [
    "# Mengelompokkan data berdasarkan product_id dan menghitung total penjualan\n",
    "price_lokasi = df11.groupby('Lokasi')['Price'].sum().reset_index()\n",
    "\n",
    "# Mengurutkan produk berdasarkan total penjualan dan memilih 10 produk teratas\n",
    "top_10_lokasi = price_lokasi.sort_values(by='Price', ascending=False).head(10)\n",
    "\n",
    "# Membuat diagram batang untuk total penjualan 10 produk teratas\n",
    "plt.figure(figsize=(14, 7))\n",
    "sns.barplot(x='Lokasi', y='Price', data=top_10_lokasi, palette='viridis')\n",
    "plt.title('Harga dari 10 lokasi teratas')\n",
    "plt.xlabel('Lokasi')\n",
    "plt.ylabel('Total')\n",
    "plt.xticks(rotation=45)\n",
    "plt.show()"
   ]
  },
  {
   "cell_type": "code",
   "execution_count": 214,
   "metadata": {},
   "outputs": [
    {
     "data": {
      "text/plain": [
       "Group\n",
       "Secondary    156\n",
       "Primary       52\n",
       "Name: count, dtype: int64"
      ]
     },
     "execution_count": 214,
     "metadata": {},
     "output_type": "execute_result"
    }
   ],
   "source": [
    "df11['Group'].value_counts()"
   ]
  },
  {
   "cell_type": "code",
   "execution_count": 217,
   "metadata": {},
   "outputs": [
    {
     "data": {
      "image/png": "[encoded data removed]",
      "text/plain": [
       "<Figure size 600x500 with 1 Axes>"
      ]
     },
     "metadata": {},
     "output_type": "display_data"
    }
   ],
   "source": [
    "#Melihat presentase Property Group pada data\n",
    "\n",
    "labels = ['Secondary', 'Primary']\n",
    "size = df11['Group'].value_counts()\n",
    "colors = ['lightblue', 'lightcoral'][:len(labels)]\n",
    "explode = [0.1, 0]\n",
    "\n",
    "fig, axes = plt.subplots(figsize=(6, 5))\n",
    "plt.pie(size, colors = colors, explode = explode,\n",
    "        labels = labels, shadow = True, startangle = 90, autopct = '%.2f%%')\n",
    "plt.title('Property Group', fontsize = 20)\n",
    "plt.legend()\n",
    "plt.show()"
   ]
  },
  {
   "cell_type": "markdown",
   "metadata": {},
   "source": [
    "#### A.2 Analys Balikpapan_clean"
   ]
  },
  {
   "cell_type": "code",
   "execution_count": 220,
   "metadata": {},
   "outputs": [
    {
     "data": {
      "text/html": [
       "<div>\n",
       "<style scoped>\n",
       "    .dataframe tbody tr th:only-of-type {\n",
       "        vertical-align: middle;\n",
       "    }\n",
       "\n",
       "    .dataframe tbody tr th {\n",
       "        vertical-align: top;\n",
       "    }\n",
       "\n",
       "    .dataframe thead th {\n",
       "        text-align: right;\n",
       "    }\n",
       "</style>\n",
       "<table border=\"1\" class=\"dataframe\">\n",
       "  <thead>\n",
       "    <tr style=\"text-align: right;\">\n",
       "      <th></th>\n",
       "      <th>count</th>\n",
       "      <th>mean</th>\n",
       "      <th>std</th>\n",
       "      <th>min</th>\n",
       "      <th>25%</th>\n",
       "      <th>50%</th>\n",
       "      <th>75%</th>\n",
       "      <th>max</th>\n",
       "    </tr>\n",
       "  </thead>\n",
       "  <tbody>\n",
       "    <tr>\n",
       "      <th>Price</th>\n",
       "      <td>403.0</td>\n",
       "      <td>2.309171e+09</td>\n",
       "      <td>2.422923e+09</td>\n",
       "      <td>380000000.0</td>\n",
       "      <td>1.000000e+09</td>\n",
       "      <td>1.615000e+09</td>\n",
       "      <td>2.650000e+09</td>\n",
       "      <td>2.500000e+10</td>\n",
       "    </tr>\n",
       "    <tr>\n",
       "      <th>Luas Bangunan</th>\n",
       "      <td>403.0</td>\n",
       "      <td>1.844841e+02</td>\n",
       "      <td>1.518437e+02</td>\n",
       "      <td>36.0</td>\n",
       "      <td>9.250000e+01</td>\n",
       "      <td>1.450000e+02</td>\n",
       "      <td>2.365000e+02</td>\n",
       "      <td>1.600000e+03</td>\n",
       "    </tr>\n",
       "    <tr>\n",
       "      <th>Luas Tanah</th>\n",
       "      <td>403.0</td>\n",
       "      <td>2.408065e+02</td>\n",
       "      <td>2.892736e+02</td>\n",
       "      <td>36.0</td>\n",
       "      <td>1.200000e+02</td>\n",
       "      <td>1.650000e+02</td>\n",
       "      <td>2.480000e+02</td>\n",
       "      <td>4.300000e+03</td>\n",
       "    </tr>\n",
       "  </tbody>\n",
       "</table>\n",
       "</div>"
      ],
      "text/plain": [
       "               count          mean           std          min           25%  \\\n",
       "Price          403.0  2.309171e+09  2.422923e+09  380000000.0  1.000000e+09   \n",
       "Luas Bangunan  403.0  1.844841e+02  1.518437e+02         36.0  9.250000e+01   \n",
       "Luas Tanah     403.0  2.408065e+02  2.892736e+02         36.0  1.200000e+02   \n",
       "\n",
       "                        50%           75%           max  \n",
       "Price          1.615000e+09  2.650000e+09  2.500000e+10  \n",
       "Luas Bangunan  1.450000e+02  2.365000e+02  1.600000e+03  \n",
       "Luas Tanah     1.650000e+02  2.480000e+02  4.300000e+03  "
      ]
     },
     "execution_count": 220,
     "metadata": {},
     "output_type": "execute_result"
    }
   ],
   "source": [
    "# Melihat statistik deskriptif dari variabel-variabel numerik\n",
    "df22.describe().T"
   ]
  },
  {
   "cell_type": "code",
   "execution_count": 221,
   "metadata": {},
   "outputs": [
    {
     "data": {
      "image/png": "[encoded data removed]",
      "text/plain": [
       "<Figure size 1600x500 with 1 Axes>"
      ]
     },
     "metadata": {},
     "output_type": "display_data"
    }
   ],
   "source": [
    "plt.figure(figsize=(16,5))\n",
    "sns.boxplot(x='Furnish', y='Price', data=df22)\n",
    "plt.title('Box plot Furnish by Price')\n",
    "plt.show()"
   ]
  },
  {
   "cell_type": "code",
   "execution_count": 226,
   "metadata": {},
   "outputs": [
    {
     "data": {
      "image/png": "[encoded data removed]",
      "text/plain": [
       "<Figure size 1400x700 with 1 Axes>"
      ]
     },
     "metadata": {},
     "output_type": "display_data"
    }
   ],
   "source": [
    "# Mengelompokkan data berdasarkan product_id dan menghitung total penjualan\n",
    "price_lokasi = df22.groupby('Lokasi')['Price'].sum().reset_index()\n",
    "\n",
    "# Mengurutkan produk berdasarkan total penjualan dan memilih 10 produk teratas\n",
    "top_10_lokasi = price_lokasi.sort_values(by='Price', ascending=False).head(10)\n",
    "\n",
    "# Membuat diagram batang untuk total penjualan 10 produk teratas\n",
    "plt.figure(figsize=(14, 7))\n",
    "sns.barplot(x='Lokasi', y='Price', data=top_10_lokasi, palette='viridis')\n",
    "plt.title('Harga dari 10 lokasi teratas')\n",
    "plt.xlabel('Lokasi')\n",
    "plt.ylabel('Total')\n",
    "plt.xticks(rotation=45)\n",
    "plt.show()"
   ]
  },
  {
   "cell_type": "code",
   "execution_count": 231,
   "metadata": {},
   "outputs": [
    {
     "data": {
      "text/plain": [
       "Group\n",
       "Secondary    286\n",
       "Primary       18\n",
       "Name: count, dtype: int64"
      ]
     },
     "execution_count": 231,
     "metadata": {},
     "output_type": "execute_result"
    }
   ],
   "source": [
    "df22['Group'].value_counts()"
   ]
  },
  {
   "cell_type": "code",
   "execution_count": 230,
   "metadata": {},
   "outputs": [
    {
     "data": {
      "image/png": "[encoded data removed]",
      "text/plain": [
       "<Figure size 600x500 with 1 Axes>"
      ]
     },
     "metadata": {},
     "output_type": "display_data"
    }
   ],
   "source": [
    "#Melihat presentase Property Group pada data\n",
    "\n",
    "labels = ['Secondary', 'Primary']\n",
    "size = df22['Group'].value_counts()\n",
    "colors = ['lightgreen', 'Orange'][:len(labels)]\n",
    "explode = [0.1, 0]\n",
    "\n",
    "fig, axes = plt.subplots(figsize=(6, 5))\n",
    "plt.pie(size, colors = colors, explode = explode,\n",
    "        labels = labels, shadow = True, startangle = 90, autopct = '%.2f%%')\n",
    "plt.title('Property Group', fontsize = 20)\n",
    "plt.legend()\n",
    "plt.show()"
   ]
  },
  {
   "cell_type": "markdown",
   "metadata": {},
   "source": [
    "# V. Feature Engineering"
   ]
  },
  {
   "cell_type": "markdown",
   "metadata": {},
   "source": [
    "# VI. Model Definition"
   ]
  },
  {
   "cell_type": "markdown",
   "metadata": {},
   "source": [
    "# VII. Model Training"
   ]
  },
  {
   "cell_type": "markdown",
   "metadata": {},
   "source": [
    "# VIII. Model Evaluation"
   ]
  },
  {
   "cell_type": "markdown",
   "metadata": {},
   "source": [
    "# IX. Model Saving"
   ]
  },
  {
   "cell_type": "markdown",
   "metadata": {},
   "source": [
    "# X. Model Inference"
   ]
  }
 ],
 "metadata": {
  "kernelspec": {
   "display_name": "base",
   "language": "python",
   "name": "python3"
  },
  "language_info": {
   "codemirror_mode": {
    "name": "ipython",
    "version": 3
   },
   "file_extension": ".py",
   "mimetype": "text/x-python",
   "name": "python",
   "nbconvert_exporter": "python",
   "pygments_lexer": "ipython3",
   "version": "3.11.7"
  }
 },
 "nbformat": 4,
 "nbformat_minor": 2
}
